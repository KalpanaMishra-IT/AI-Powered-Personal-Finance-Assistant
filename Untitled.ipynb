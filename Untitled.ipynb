{
 "cells": [
  {
   "cell_type": "code",
   "execution_count": 17,
   "id": "82d40282",
   "metadata": {},
   "outputs": [],
   "source": [
    "import pickle\n",
    "import numpy as np\n",
    "import pandas as pd\n",
    "from tensorflow.keras.models import Sequential,load_model\n",
    "from tensorflow.keras.layers import LSTM, Dense, Dropout\n",
    "from sklearn.preprocessing import MinMaxScaler"
   ]
  },
  {
   "cell_type": "code",
   "execution_count": 18,
   "id": "4333200c",
   "metadata": {},
   "outputs": [
    {
     "name": "stdout",
     "output_type": "stream",
     "text": [
      "[('users',), ('sqlite_sequence',), ('transactions',)]\n"
     ]
    }
   ],
   "source": [
    "import sqlite3\n",
    "\n",
    "# creating file path\n",
    "dbfile = 'finance_assistant.db'\n",
    "# Create a SQL connection to our SQLite database\n",
    "con = sqlite3.connect(dbfile)\n",
    "\n",
    "# creating cursor\n",
    "cur = con.cursor()\n",
    "\n",
    "# reading all table names\n",
    "table_list = [a for a in cur.execute(\"SELECT name FROM sqlite_master WHERE type = 'table'\")]\n",
    "# here is you table list\n",
    "print(table_list)\n",
    "\n",
    "# Be sure to close the connection\n"
   ]
  },
  {
   "cell_type": "code",
   "execution_count": 26,
   "id": "7866a15b",
   "metadata": {},
   "outputs": [
    {
     "name": "stdout",
     "output_type": "stream",
     "text": [
      "User details updated successfully!\n"
     ]
    }
   ],
   "source": [
    "def update_user(user_id, new_username, new_password):\n",
    "    # Connect to the database\n",
    "    conn = sqlite3.connect('finance_assistant.db')\n",
    "    cursor = conn.cursor()\n",
    "    \n",
    "    try:\n",
    "        # Update the username and password\n",
    "        cursor.execute(\"\"\"\n",
    "            UPDATE users\n",
    "            SET username = ?, password = ?\n",
    "            WHERE id = ?\n",
    "        \"\"\", (new_username, new_password, user_id))\n",
    "        \n",
    "        conn.commit()\n",
    "        print(\"User details updated successfully!\")\n",
    "    \n",
    "    except sqlite3.Error as e:\n",
    "        print(\"An error occurred:\", e)\n",
    "    \n",
    "    finally:\n",
    "        conn.close()\n",
    "\n",
    "# Example usage\n",
    "user_id = 1  # ID of the user you want to update\n",
    "new_username = 'kalpana_mishra'\n",
    "new_password = 'kalpana11'\n",
    "\n",
    "update_user(user_id, new_username, new_password)"
   ]
  },
  {
   "cell_type": "code",
   "execution_count": 27,
   "id": "24dcf549",
   "metadata": {},
   "outputs": [
    {
     "name": "stdout",
     "output_type": "stream",
     "text": [
      "[(1, 'kalpana_mishra', 'kalpana11'), (2, 'anshuman', 'Ansiimk@6')]\n"
     ]
    }
   ],
   "source": [
    "users=[a for a in cur.execute(\"SELECT * FROM users\")]\n",
    "print(users)"
   ]
  },
  {
   "cell_type": "code",
   "execution_count": 4,
   "id": "888002c0",
   "metadata": {},
   "outputs": [],
   "source": [
    "transactions=[a for a in cur.execute(\"SELECT * FROM transactions\")]"
   ]
  },
  {
   "cell_type": "code",
   "execution_count": 5,
   "id": "7699dff8",
   "metadata": {},
   "outputs": [
    {
     "data": {
      "text/plain": [
       "[('users', 2), ('transactions', 21)]"
      ]
     },
     "execution_count": 5,
     "metadata": {},
     "output_type": "execute_result"
    }
   ],
   "source": [
    "sqlite_sequence=[a for a in cur.execute(\"SELECT * FROM sqlite_sequence\")]\n",
    "sqlite_sequence"
   ]
  },
  {
   "cell_type": "code",
   "execution_count": 6,
   "id": "67c43a67",
   "metadata": {},
   "outputs": [],
   "source": [
    "# conn = get_db_connection()\n",
    "df = pd.read_sql_query(\"SELECT * FROM transactions WHERE user_id = ?\", con, params=('1',))\n",
    "con.close()"
   ]
  },
  {
   "cell_type": "code",
   "execution_count": 8,
   "id": "39cc3650",
   "metadata": {},
   "outputs": [
    {
     "data": {
      "text/html": [
       "<div>\n",
       "<style scoped>\n",
       "    .dataframe tbody tr th:only-of-type {\n",
       "        vertical-align: middle;\n",
       "    }\n",
       "\n",
       "    .dataframe tbody tr th {\n",
       "        vertical-align: top;\n",
       "    }\n",
       "\n",
       "    .dataframe thead th {\n",
       "        text-align: right;\n",
       "    }\n",
       "</style>\n",
       "<table border=\"1\" class=\"dataframe\">\n",
       "  <thead>\n",
       "    <tr style=\"text-align: right;\">\n",
       "      <th></th>\n",
       "      <th>id</th>\n",
       "      <th>user_id</th>\n",
       "      <th>amount</th>\n",
       "      <th>category</th>\n",
       "      <th>date</th>\n",
       "      <th>month</th>\n",
       "    </tr>\n",
       "  </thead>\n",
       "  <tbody>\n",
       "    <tr>\n",
       "      <th>0</th>\n",
       "      <td>1</td>\n",
       "      <td>1</td>\n",
       "      <td>4000.0</td>\n",
       "      <td>Entertainment</td>\n",
       "      <td>2024-04-05</td>\n",
       "      <td>4</td>\n",
       "    </tr>\n",
       "    <tr>\n",
       "      <th>1</th>\n",
       "      <td>2</td>\n",
       "      <td>1</td>\n",
       "      <td>2000.0</td>\n",
       "      <td>Entertainment</td>\n",
       "      <td>2024-04-25</td>\n",
       "      <td>4</td>\n",
       "    </tr>\n",
       "    <tr>\n",
       "      <th>2</th>\n",
       "      <td>3</td>\n",
       "      <td>1</td>\n",
       "      <td>15000.0</td>\n",
       "      <td>Rent</td>\n",
       "      <td>2024-04-02</td>\n",
       "      <td>4</td>\n",
       "    </tr>\n",
       "    <tr>\n",
       "      <th>3</th>\n",
       "      <td>4</td>\n",
       "      <td>1</td>\n",
       "      <td>10000.0</td>\n",
       "      <td>Savings</td>\n",
       "      <td>2024-04-20</td>\n",
       "      <td>4</td>\n",
       "    </tr>\n",
       "    <tr>\n",
       "      <th>4</th>\n",
       "      <td>5</td>\n",
       "      <td>1</td>\n",
       "      <td>11000.0</td>\n",
       "      <td>Savings</td>\n",
       "      <td>2024-05-21</td>\n",
       "      <td>5</td>\n",
       "    </tr>\n",
       "    <tr>\n",
       "      <th>5</th>\n",
       "      <td>6</td>\n",
       "      <td>1</td>\n",
       "      <td>15000.0</td>\n",
       "      <td>Rent</td>\n",
       "      <td>2024-05-03</td>\n",
       "      <td>5</td>\n",
       "    </tr>\n",
       "    <tr>\n",
       "      <th>6</th>\n",
       "      <td>7</td>\n",
       "      <td>1</td>\n",
       "      <td>1600.0</td>\n",
       "      <td>Entertainment</td>\n",
       "      <td>2024-05-12</td>\n",
       "      <td>5</td>\n",
       "    </tr>\n",
       "    <tr>\n",
       "      <th>7</th>\n",
       "      <td>8</td>\n",
       "      <td>1</td>\n",
       "      <td>2000.0</td>\n",
       "      <td>Entertainment</td>\n",
       "      <td>2024-05-19</td>\n",
       "      <td>5</td>\n",
       "    </tr>\n",
       "    <tr>\n",
       "      <th>8</th>\n",
       "      <td>9</td>\n",
       "      <td>1</td>\n",
       "      <td>15000.0</td>\n",
       "      <td>Savings</td>\n",
       "      <td>2024-05-22</td>\n",
       "      <td>5</td>\n",
       "    </tr>\n",
       "    <tr>\n",
       "      <th>9</th>\n",
       "      <td>10</td>\n",
       "      <td>1</td>\n",
       "      <td>1200.0</td>\n",
       "      <td>Food</td>\n",
       "      <td>2024-04-14</td>\n",
       "      <td>4</td>\n",
       "    </tr>\n",
       "    <tr>\n",
       "      <th>10</th>\n",
       "      <td>11</td>\n",
       "      <td>1</td>\n",
       "      <td>1800.0</td>\n",
       "      <td>Food</td>\n",
       "      <td>2024-04-28</td>\n",
       "      <td>4</td>\n",
       "    </tr>\n",
       "    <tr>\n",
       "      <th>11</th>\n",
       "      <td>12</td>\n",
       "      <td>1</td>\n",
       "      <td>1900.0</td>\n",
       "      <td>Food</td>\n",
       "      <td>2024-05-29</td>\n",
       "      <td>5</td>\n",
       "    </tr>\n",
       "    <tr>\n",
       "      <th>12</th>\n",
       "      <td>13</td>\n",
       "      <td>1</td>\n",
       "      <td>1100.0</td>\n",
       "      <td>Food</td>\n",
       "      <td>2024-05-14</td>\n",
       "      <td>5</td>\n",
       "    </tr>\n",
       "    <tr>\n",
       "      <th>13</th>\n",
       "      <td>15</td>\n",
       "      <td>1</td>\n",
       "      <td>15000.0</td>\n",
       "      <td>Rent</td>\n",
       "      <td>2024-03-03</td>\n",
       "      <td>3</td>\n",
       "    </tr>\n",
       "    <tr>\n",
       "      <th>14</th>\n",
       "      <td>16</td>\n",
       "      <td>1</td>\n",
       "      <td>2000.0</td>\n",
       "      <td>Entertainment</td>\n",
       "      <td>2024-03-07</td>\n",
       "      <td>3</td>\n",
       "    </tr>\n",
       "    <tr>\n",
       "      <th>15</th>\n",
       "      <td>17</td>\n",
       "      <td>1</td>\n",
       "      <td>1500.0</td>\n",
       "      <td>Entertainment</td>\n",
       "      <td>2024-03-22</td>\n",
       "      <td>3</td>\n",
       "    </tr>\n",
       "    <tr>\n",
       "      <th>16</th>\n",
       "      <td>18</td>\n",
       "      <td>1</td>\n",
       "      <td>16000.0</td>\n",
       "      <td>Savings</td>\n",
       "      <td>2024-03-22</td>\n",
       "      <td>3</td>\n",
       "    </tr>\n",
       "    <tr>\n",
       "      <th>17</th>\n",
       "      <td>19</td>\n",
       "      <td>1</td>\n",
       "      <td>1800.0</td>\n",
       "      <td>Food</td>\n",
       "      <td>2024-03-11</td>\n",
       "      <td>3</td>\n",
       "    </tr>\n",
       "    <tr>\n",
       "      <th>18</th>\n",
       "      <td>20</td>\n",
       "      <td>1</td>\n",
       "      <td>1100.0</td>\n",
       "      <td>Food</td>\n",
       "      <td>2024-03-28</td>\n",
       "      <td>3</td>\n",
       "    </tr>\n",
       "    <tr>\n",
       "      <th>19</th>\n",
       "      <td>21</td>\n",
       "      <td>1</td>\n",
       "      <td>12500.0</td>\n",
       "      <td>Rent</td>\n",
       "      <td>2024-02-03</td>\n",
       "      <td>2</td>\n",
       "    </tr>\n",
       "  </tbody>\n",
       "</table>\n",
       "</div>"
      ],
      "text/plain": [
       "    id  user_id   amount       category       date  month\n",
       "0    1        1   4000.0  Entertainment 2024-04-05      4\n",
       "1    2        1   2000.0  Entertainment 2024-04-25      4\n",
       "2    3        1  15000.0           Rent 2024-04-02      4\n",
       "3    4        1  10000.0        Savings 2024-04-20      4\n",
       "4    5        1  11000.0        Savings 2024-05-21      5\n",
       "5    6        1  15000.0           Rent 2024-05-03      5\n",
       "6    7        1   1600.0  Entertainment 2024-05-12      5\n",
       "7    8        1   2000.0  Entertainment 2024-05-19      5\n",
       "8    9        1  15000.0        Savings 2024-05-22      5\n",
       "9   10        1   1200.0           Food 2024-04-14      4\n",
       "10  11        1   1800.0           Food 2024-04-28      4\n",
       "11  12        1   1900.0           Food 2024-05-29      5\n",
       "12  13        1   1100.0           Food 2024-05-14      5\n",
       "13  15        1  15000.0           Rent 2024-03-03      3\n",
       "14  16        1   2000.0  Entertainment 2024-03-07      3\n",
       "15  17        1   1500.0  Entertainment 2024-03-22      3\n",
       "16  18        1  16000.0        Savings 2024-03-22      3\n",
       "17  19        1   1800.0           Food 2024-03-11      3\n",
       "18  20        1   1100.0           Food 2024-03-28      3\n",
       "19  21        1  12500.0           Rent 2024-02-03      2"
      ]
     },
     "execution_count": 8,
     "metadata": {},
     "output_type": "execute_result"
    }
   ],
   "source": [
    "df['date'] = pd.to_datetime(df['date'])\n",
    "df['month'] = df['date'].dt.month\n",
    "df"
   ]
  },
  {
   "cell_type": "code",
   "execution_count": 11,
   "id": "48b1f7fd",
   "metadata": {},
   "outputs": [],
   "source": [
    "def create_sequences(data, seq_length):\n",
    "    X, y = [], []\n",
    "    for i in range(len(data) - seq_length):\n",
    "        X.append(data[i:i + seq_length])\n",
    "        y.append(data[i + seq_length])\n",
    "    return np.array(X), np.array(y)"
   ]
  },
  {
   "cell_type": "code",
   "execution_count": 12,
   "id": "961a8ab8",
   "metadata": {
    "scrolled": true
   },
   "outputs": [
    {
     "name": "stdout",
     "output_type": "stream",
     "text": [
      "0    12500.0\n",
      "1    15000.0\n",
      "2    15000.0\n",
      "3    15000.0\n",
      "Name: amount, dtype: float64\n",
      "0    2900.0\n",
      "1    3000.0\n",
      "2    3000.0\n",
      "Name: amount, dtype: float64\n",
      "0    3500.0\n",
      "1    6000.0\n",
      "2    3600.0\n",
      "Name: amount, dtype: float64\n",
      "0    16000.0\n",
      "1    10000.0\n",
      "2    26000.0\n",
      "Name: amount, dtype: float64\n"
     ]
    }
   ],
   "source": [
    "    categories = ['rent', 'food', 'entertainment', 'savings']\n",
    "\n",
    "    for category in categories:\n",
    "        cat_df = df[df['category'].str.lower() == category].groupby('month')['amount'].sum().reset_index()\n",
    "        if cat_df.empty or len(cat_df) < 3:\n",
    "            continue\n",
    "        print(cat_df['amount'])\n",
    "        data=cat_df['amount']\n",
    "\n",
    "        seq_length = 2  # Use the past 5 numbers to predict the next\n",
    "        X, y = create_sequences(data, seq_length)\n",
    "\n",
    "        # Reshape X to fit LSTM input: [samples, time_steps, features]\n",
    "        X = X.reshape((X.shape[0], X.shape[1], 1))\n",
    "\n",
    "        # Build the LSTM model\n",
    "        model = Sequential([LSTM(50, activation='relu', input_shape=(seq_length, 1)),\n",
    "                            Dense(1)  # Output layer\n",
    "                           ])\n",
    "\n",
    "        # Compile the model\n",
    "        model.compile(optimizer='adam', loss='mse')\n",
    "\n",
    "        # Train the model\n",
    "        model.fit(X, y, epochs=200, verbose=0)\n",
    "        model.save(f'lstm_{category}_model.h5')\n",
    "\n",
    "    "
   ]
  },
  {
   "cell_type": "code",
   "execution_count": 14,
   "id": "44dc55cf",
   "metadata": {},
   "outputs": [
    {
     "name": "stdout",
     "output_type": "stream",
     "text": [
      "1/1 [==============================] - 0s 432ms/step\n",
      "Predicted next number: 18190.37\n"
     ]
    }
   ],
   "source": [
    "loaded_model = load_model('lstm_savings.h5')\n",
    "\n",
    "# Use the loaded model for prediction\n",
    "test_input = np.array([15000,14000]).reshape((1, seq_length, 1))\n",
    "predicted = loaded_model.predict(test_input)\n",
    "print(f\"Predicted next number: {predicted[0][0]:.2f}\")"
   ]
  },
  {
   "cell_type": "code",
   "execution_count": null,
   "id": "b3140f13",
   "metadata": {},
   "outputs": [],
   "source": []
  }
 ],
 "metadata": {
  "kernelspec": {
   "display_name": "Python 3 (ipykernel)",
   "language": "python",
   "name": "python3"
  },
  "language_info": {
   "codemirror_mode": {
    "name": "ipython",
    "version": 3
   },
   "file_extension": ".py",
   "mimetype": "text/x-python",
   "name": "python",
   "nbconvert_exporter": "python",
   "pygments_lexer": "ipython3",
   "version": "3.11.5"
  }
 },
 "nbformat": 4,
 "nbformat_minor": 5
}
