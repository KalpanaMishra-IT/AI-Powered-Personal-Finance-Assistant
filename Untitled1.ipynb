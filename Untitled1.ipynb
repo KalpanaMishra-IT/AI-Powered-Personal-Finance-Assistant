{
 "cells": [
  {
   "cell_type": "code",
   "execution_count": 7,
   "id": "5eba8f80",
   "metadata": {},
   "outputs": [],
   "source": [
    "import numpy as np\n",
    "import tensorflow as tf\n",
    "from tensorflow.keras.models import Sequential, load_model\n",
    "from tensorflow.keras.layers import LSTM, Dense"
   ]
  },
  {
   "cell_type": "code",
   "execution_count": 12,
   "id": "26c11045",
   "metadata": {},
   "outputs": [
    {
     "data": {
      "text/plain": [
       "<keras.callbacks.History at 0x1c87b56ee90>"
      ]
     },
     "execution_count": 12,
     "metadata": {},
     "output_type": "execute_result"
    }
   ],
   "source": [
    "# Generate sequential data (e.g., 1 to 100)\n",
    "data=[2900,3000,3000]\n",
    "# data = np.array([i for i in range(1, 101)])\n",
    "\n",
    "# Prepare data for LSTM [X, y] -> X: input, y: target\n",
    "def create_sequences(data, seq_length):\n",
    "    X, y = [], []\n",
    "    for i in range(len(data) - seq_length):\n",
    "        X.append(data[i:i + seq_length])\n",
    "        y.append(data[i + seq_length])\n",
    "    return np.array(X), np.array(y)\n",
    "\n",
    "seq_length = 2  # Use the past 5 numbers to predict the next\n",
    "X, y = create_sequences(data, seq_length)\n",
    "\n",
    "# Reshape X to fit LSTM input: [samples, time_steps, features]\n",
    "X = X.reshape((X.shape[0], X.shape[1], 1))\n",
    "\n",
    "# Build the LSTM model\n",
    "model = Sequential([\n",
    "    LSTM(50, activation='relu', input_shape=(seq_length, 1)),\n",
    "    Dense(1)  # Output layer\n",
    "])\n",
    "\n",
    "# Compile the model\n",
    "model.compile(optimizer='adam', loss='mse')\n",
    "\n",
    "# Train the model\n",
    "model.fit(X, y, epochs=200, verbose=0)\n"
   ]
  },
  {
   "cell_type": "code",
   "execution_count": 14,
   "id": "d937e20f",
   "metadata": {},
   "outputs": [],
   "source": [
    "model.save('lstm_food.h5')"
   ]
  },
  {
   "cell_type": "code",
   "execution_count": 19,
   "id": "53a4f932",
   "metadata": {},
   "outputs": [
    {
     "name": "stdout",
     "output_type": "stream",
     "text": [
      "1/1 [==============================] - 0s 444ms/step\n",
      "Predicted next number: 2991.46\n"
     ]
    }
   ],
   "source": [
    "loaded_model = load_model('lstm_food.h5')\n",
    "\n",
    "# Use the loaded model for prediction\n",
    "test_input = np.array([2900,3000]).reshape((1, seq_length, 1))\n",
    "predicted = loaded_model.predict(test_input)\n",
    "print(f\"Predicted next number: {predicted[0][0]:.2f}\")"
   ]
  },
  {
   "cell_type": "code",
   "execution_count": null,
   "id": "8d8f3785",
   "metadata": {},
   "outputs": [],
   "source": []
  }
 ],
 "metadata": {
  "kernelspec": {
   "display_name": "Python 3 (ipykernel)",
   "language": "python",
   "name": "python3"
  },
  "language_info": {
   "codemirror_mode": {
    "name": "ipython",
    "version": 3
   },
   "file_extension": ".py",
   "mimetype": "text/x-python",
   "name": "python",
   "nbconvert_exporter": "python",
   "pygments_lexer": "ipython3",
   "version": "3.11.5"
  }
 },
 "nbformat": 4,
 "nbformat_minor": 5
}
